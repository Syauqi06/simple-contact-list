{
 "cells": [
  {
   "cell_type": "code",
   "execution_count": 2,
   "metadata": {},
   "outputs": [
    {
     "name": "stdout",
     "output_type": "stream",
     "text": [
      "Hasil dari 5 pangkat 2 adalah 25\n"
     ]
    }
   ],
   "source": [
    "bil1 = int(input(\"Masukan Bilangan pertama: \"))\n",
    "bil2 = int(input(\"Masukan Bilangan kedua: \"))\n",
    "\n",
    "hasil = bil1 ** bil2\n",
    "print(f\"Hasil dari {bil1} pangkat {bil2} adalah {hasil}\")"
   ]
  },
  {
   "cell_type": "code",
   "execution_count": null,
   "metadata": {},
   "outputs": [],
   "source": [
    "for i in range(0,14):\n",
    "    print(i+1)"
   ]
  },
  {
   "cell_type": "code",
   "execution_count": null,
   "metadata": {},
   "outputs": [],
   "source": [
    "angka1 = 10\n",
    "angka2 = 10\n",
    "\n",
    "def hitung(operator):\n",
    "    if operator == \"+\":\n",
    "        hasil = angka1 + angka2\n",
    "    elif operator == \"-\":\n",
    "        hasil = angka1 - angka2\n",
    "    elif operator == \"*\":\n",
    "        hasil = angka1 * angka2\n",
    "    else: \n",
    "        operator == \"/\"\n",
    "        hasil = angka1 / angka2\n",
    "    print(f\"Hasil {operator}: {hasil}\")\n",
    "\n",
    "hitung(\"+\")\n",
    "hitung(\"-\")\n",
    "hitung(\"*\")\n",
    "hitung(\"/\")"
   ]
  }
 ],
 "metadata": {
  "kernelspec": {
   "display_name": "Python 3",
   "language": "python",
   "name": "python3"
  },
  "language_info": {
   "codemirror_mode": {
    "name": "ipython",
    "version": 3
   },
   "file_extension": ".py",
   "mimetype": "text/x-python",
   "name": "python",
   "nbconvert_exporter": "python",
   "pygments_lexer": "ipython3",
   "version": "3.12.6"
  }
 },
 "nbformat": 4,
 "nbformat_minor": 2
}
