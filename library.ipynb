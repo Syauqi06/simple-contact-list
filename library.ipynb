{
 "cells": [
  {
   "cell_type": "code",
   "execution_count": null,
   "metadata": {},
   "outputs": [],
   "source": [
    "import pandas as pd\n",
    "\n",
    "list_nim = []\n",
    "list_nama = []\n",
    "list_uts = []\n",
    "list_uas = []\n",
    "list_total = []\n",
    "\n",
    "ulang = 2\n",
    "for i in range(ulang):\n",
    "    print(\"data ke -\" +str(i+1))\n",
    "    list_nim.append(input(\"NIM : \"))\n",
    "    list_nama.append(input(\"Nama : \"))\n",
    "    list_uts.append(int(input(\"Nilai UTS : \")))\n",
    "    list_uas.append(int(input(\"Nilai UAS : \")))\n",
    "\n",
    "for i in range(ulang):\n",
    "    list_total.append((list_uts[i] + list_uas[i]) / 2)\n",
    "\n",
    "tamu = {\n",
    "    \"NIM\" : list_nim,\n",
    "    \"Nama Lengkap\" : list_nama,\n",
    "    \"Nilai UTS\" : list_uts,\n",
    "    \"Nulai UAS\" : list_uas,\n",
    "    \"Rata-rata\" : list_total\n",
    "}\n",
    "\n",
    "data_tamu = pd.DataFrame(tamu)\n",
    "print(6*\"=\" + \"DAFTAR NILAI\" + \"=\"*6)\n",
    "print(data_tamu)\n",
    "print(6*\"=\"*6)"
   ]
  },
  {
   "cell_type": "code",
   "execution_count": null,
   "metadata": {},
   "outputs": [],
   "source": [
    "matrix = [\n",
    "    [1,0], \n",
    "    [0,1]\n",
    "] # matrix 2x2\n",
    "print(matrix)"
   ]
  },
  {
   "cell_type": "code",
   "execution_count": null,
   "metadata": {},
   "outputs": [],
   "source": [
    "matrix = [\n",
    "    [1,0,1], \n",
    "    [0,1,0], \n",
    "    [1,0,1]\n",
    "] # matrix 3x3\n",
    "print(matrix)"
   ]
  },
  {
   "cell_type": "code",
   "execution_count": null,
   "metadata": {},
   "outputs": [],
   "source": [
    "matrix = [\n",
    "    [1,0,1,0], \n",
    "    [0,1,0,1], \n",
    "    [1,0,1,0], \n",
    "    [0,1,0,1]\n",
    "] # matrix 4x4\n",
    "print(matrix)"
   ]
  },
  {
   "cell_type": "code",
   "execution_count": null,
   "metadata": {},
   "outputs": [],
   "source": [
    "mat1 = [\n",
    "    [9,0],\n",
    "    [3,6]\n",
    "]\n",
    "\n",
    "mat2 = [\n",
    "    [6,0],\n",
    "    [7,2]\n",
    "]\n",
    "\n",
    "for i in range(0,len(mat1)):\n",
    "    for b in range(0, len(mat2[0])):\n",
    "        print(mat1[i][b] + mat2[i][b], end=' '),\n",
    "    print"
   ]
  },
  {
   "cell_type": "code",
   "execution_count": null,
   "metadata": {},
   "outputs": [],
   "source": [
    "mat1 = [\n",
    "    [9,0],\n",
    "    [3,6]\n",
    "]\n",
    "\n",
    "mat2 = [\n",
    "    [6,0],\n",
    "    [7,2]\n",
    "]\n",
    "\n",
    "for i in range(0,len(mat1)):\n",
    "    for b in range(0, len(mat2[0])):\n",
    "        print(mat1[i][b] - mat2[i][b], end=' '),\n",
    "    print"
   ]
  },
  {
   "cell_type": "code",
   "execution_count": null,
   "metadata": {},
   "outputs": [],
   "source": [
    "mat1 = [\n",
    "    [9,0],\n",
    "    [3,6]\n",
    "]\n",
    "\n",
    "mat2 = [\n",
    "    [6,0],\n",
    "    [7,2]\n",
    "]\n",
    "\n",
    "mat3 = []\n",
    "for a in range(0,len(mat1)):\n",
    "    row = []\n",
    "    for b in range(0, len(mat1[0])):\n",
    "        total = 0\n",
    "        for c in range(0, len(mat1)):\n",
    "            total = total + (mat1[a][c] * mat2[c][b])\n",
    "        row.append(total)\n",
    "    mat3.append(row)\n",
    "\n",
    "for a in range(0, len(mat3)):\n",
    "    for b in range(0, len(mat3[0])):\n",
    "        print(mat3[a][b], end= ' ')\n",
    "    print()"
   ]
  }
 ],
 "metadata": {
  "kernelspec": {
   "display_name": "Python 3",
   "language": "python",
   "name": "python3"
  },
  "language_info": {
   "codemirror_mode": {
    "name": "ipython",
    "version": 3
   },
   "file_extension": ".py",
   "mimetype": "text/x-python",
   "name": "python",
   "nbconvert_exporter": "python",
   "pygments_lexer": "ipython3",
   "version": "3.12.6"
  }
 },
 "nbformat": 4,
 "nbformat_minor": 2
}
