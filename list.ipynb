{
 "cells": [
  {
   "cell_type": "code",
   "execution_count": 1,
   "metadata": {},
   "outputs": [
    {
     "data": {
      "text/plain": [
       "'Need'"
      ]
     },
     "execution_count": 1,
     "metadata": {},
     "output_type": "execute_result"
    }
   ],
   "source": [
    "list = [\"I\", \"Want\", \"U\", \"I\", \"Need\", \"U\", 48]\n",
    "list[4]"
   ]
  },
  {
   "cell_type": "code",
   "execution_count": null,
   "metadata": {},
   "outputs": [],
   "source": [
    "another_list = [\"Hi\", [2,0,0,6], \"World\"]\n",
    "print(another_list[2])"
   ]
  },
  {
   "cell_type": "code",
   "execution_count": null,
   "metadata": {},
   "outputs": [],
   "source": [
    "genap = [2,4,6,8]\n",
    "genap.append(10)\n",
    "print(genap)\n",
    "genap.extend([12,14,16])\n",
    "print(genap)"
   ]
  },
  {
   "cell_type": "code",
   "execution_count": null,
   "metadata": {},
   "outputs": [],
   "source": [
    "nama = (\"Syauqi\", \"Xochitl\")\n",
    "for nama in nama:\n",
    "    print(f\"Hi {nama}\")"
   ]
  },
  {
   "cell_type": "code",
   "execution_count": null,
   "metadata": {},
   "outputs": [],
   "source": [
    "array = [\n",
    "    [1, 2, 3],\n",
    "    [4, 5, 6],\n",
    "    [7, 8, 9],\n",
    "    [0]\n",
    "]\n",
    "\n",
    "print(\"Baris Pertama, Kolom Pertama adalah:\", array[0][0])\n",
    "print(\"Baris Pertama, Kolom Kedua adalah:\", array[0][1])\n",
    "print(\"Baris Pertama, Kolom Ketiga adalah:\", array[0][2])\n",
    "print(\"Baris Ketiga, Kolom Ketiga adalah:\", array[2][2])\n",
    "print(\"Baris Ke Empat, Kolom Pertama adalah:\", array[3][0])"
   ]
  },
  {
   "cell_type": "code",
   "execution_count": null,
   "metadata": {},
   "outputs": [],
   "source": [
    "import pandas as pd\n",
    "\n",
    "list_nim = []\n",
    "list_uts = []\n",
    "list_uas = []\n",
    "list_total = []\n",
    "\n",
    "ulang = 2\n",
    "for i in range(ulang):\n",
    "    print(\"data ke -\" +str(i+1))\n",
    "    list_nim.append(input(\"Masukan Nim anda : \"))\n",
    "    list_uts.append(int(input(\"Masukan Nilai UTS anda : \")))\n",
    "    list_uas.append(int(input(\"Masukan Nilai UAS anda : \")))\n",
    "    \n",
    "for i in range(ulang):\n",
    "    list_total.append((list_uts[i] + list_uas[i]) / 2)\n",
    "\n",
    "data = {\n",
    "    \"NIM\": list_nim,\n",
    "    \"Nilai UTS\": list_uts,\n",
    "    \"Nilai UAS\": list_uas,\n",
    "    \"Total\": list_total,\n",
    "}\n",
    "df = pd.DataFrame(data)\n",
    "\n",
    "# print(8*\"=\"*8)\n",
    "# print(\"Nim\\t\\tNilai UTS\\tNilai UAS\\tTotal\")\n",
    "# print(8*\"=\"*8)\n",
    "# for i in range(ulang):\n",
    "print(\"=\" * 64)\n",
    "print(df)\n",
    "print(\"=\" * 64)"
   ]
  }
 ],
 "metadata": {
  "kernelspec": {
   "display_name": "Python 3",
   "language": "python",
   "name": "python3"
  },
  "language_info": {
   "codemirror_mode": {
    "name": "ipython",
    "version": 3
   },
   "file_extension": ".py",
   "mimetype": "text/x-python",
   "name": "python",
   "nbconvert_exporter": "python",
   "pygments_lexer": "ipython3",
   "version": "3.12.6"
  }
 },
 "nbformat": 4,
 "nbformat_minor": 2
}
